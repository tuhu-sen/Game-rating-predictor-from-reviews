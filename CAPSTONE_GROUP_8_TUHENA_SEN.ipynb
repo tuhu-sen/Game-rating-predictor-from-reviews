{
 "cells": [
  {
   "cell_type": "markdown",
   "metadata": {},
   "source": [
    "# Capstone Project_GROUP 8_GAME RATING PREDICTOR MODEL\n",
    "\n",
    "ALY6140- Submitted by Tuhena Sen"
   ]
  },
  {
   "cell_type": "code",
   "execution_count": 1,
   "metadata": {},
   "outputs": [],
   "source": [
    "from sklearn.preprocessing import StandardScaler\n",
    "from sklearn.cluster import KMeans\n",
    "import matplotlib.pyplot as plt\n",
    "import numpy as np\n",
    "import os\n",
    "import pandas as pd\n",
    "import seaborn as sns"
   ]
  },
  {
   "cell_type": "code",
   "execution_count": 2,
   "metadata": {},
   "outputs": [
    {
     "name": "stdout",
     "output_type": "stream",
     "text": [
      "There are 19330 rows and 10 columns\n"
     ]
    }
   ],
   "source": [
    "%matplotlib inline\n",
    "nRowsRead = None # specify 'None' if want to read whole file\n",
    "df2 = pd.read_csv('2020-08-19.csv', delimiter=',', nrows = nRowsRead)\n",
    "df2.dataframeName = '2020-08-19.csv'\n",
    "nRow, nCol = df2.shape\n",
    "print(f'There are {nRow} rows and {nCol} columns')"
   ]
  },
  {
   "cell_type": "markdown",
   "metadata": {},
   "source": [
    "\n"
   ]
  },
  {
   "cell_type": "markdown",
   "metadata": {},
   "source": [
    "**Step 1: Dataset Description and data loading**\n",
    "\n",
    "Here, we are analysing the file '2020-08-19.csv' available at https://www.kaggle.com/jvanelteren/boardgamegeek-reviews\n",
    "    \n",
    "Every row represents a game and information related to it, such as, average rating, number of users rated, year etc."
   ]
  },
  {
   "cell_type": "code",
   "execution_count": 3,
   "metadata": {
    "scrolled": true
   },
   "outputs": [
    {
     "data": {
      "text/html": [
       "<div>\n",
       "<style scoped>\n",
       "    .dataframe tbody tr th:only-of-type {\n",
       "        vertical-align: middle;\n",
       "    }\n",
       "\n",
       "    .dataframe tbody tr th {\n",
       "        vertical-align: top;\n",
       "    }\n",
       "\n",
       "    .dataframe thead th {\n",
       "        text-align: right;\n",
       "    }\n",
       "</style>\n",
       "<table border=\"1\" class=\"dataframe\">\n",
       "  <thead>\n",
       "    <tr style=\"text-align: right;\">\n",
       "      <th></th>\n",
       "      <th>Unnamed: 0</th>\n",
       "      <th>ID</th>\n",
       "      <th>Name</th>\n",
       "      <th>Year</th>\n",
       "      <th>Rank</th>\n",
       "      <th>Average</th>\n",
       "      <th>Bayes average</th>\n",
       "      <th>Users rated</th>\n",
       "      <th>URL</th>\n",
       "      <th>Thumbnail</th>\n",
       "    </tr>\n",
       "  </thead>\n",
       "  <tbody>\n",
       "    <tr>\n",
       "      <th>0</th>\n",
       "      <td>90</td>\n",
       "      <td>30549</td>\n",
       "      <td>Pandemic</td>\n",
       "      <td>2008</td>\n",
       "      <td>91</td>\n",
       "      <td>7.62</td>\n",
       "      <td>7.518</td>\n",
       "      <td>96186</td>\n",
       "      <td>/boardgame/30549/pandemic</td>\n",
       "      <td>https://cf.geekdo-images.com/micro/img/0m3-oqB...</td>\n",
       "    </tr>\n",
       "    <tr>\n",
       "      <th>1</th>\n",
       "      <td>172</td>\n",
       "      <td>822</td>\n",
       "      <td>Carcassonne</td>\n",
       "      <td>2000</td>\n",
       "      <td>173</td>\n",
       "      <td>7.42</td>\n",
       "      <td>7.311</td>\n",
       "      <td>96181</td>\n",
       "      <td>/boardgame/822/carcassonne</td>\n",
       "      <td>https://cf.geekdo-images.com/micro/img/z0tTaij...</td>\n",
       "    </tr>\n",
       "    <tr>\n",
       "      <th>2</th>\n",
       "      <td>380</td>\n",
       "      <td>13</td>\n",
       "      <td>Catan</td>\n",
       "      <td>1995</td>\n",
       "      <td>381</td>\n",
       "      <td>7.16</td>\n",
       "      <td>7.001</td>\n",
       "      <td>96171</td>\n",
       "      <td>/boardgame/13/catan</td>\n",
       "      <td>https://cf.geekdo-images.com/micro/img/e0y6Bog...</td>\n",
       "    </tr>\n",
       "    <tr>\n",
       "      <th>3</th>\n",
       "      <td>49</td>\n",
       "      <td>68448</td>\n",
       "      <td>7 Wonders</td>\n",
       "      <td>2010</td>\n",
       "      <td>50</td>\n",
       "      <td>7.76</td>\n",
       "      <td>7.662</td>\n",
       "      <td>79830</td>\n",
       "      <td>/boardgame/68448/7-wonders</td>\n",
       "      <td>https://cf.geekdo-images.com/micro/img/h-Ejv31...</td>\n",
       "    </tr>\n",
       "    <tr>\n",
       "      <th>4</th>\n",
       "      <td>87</td>\n",
       "      <td>36218</td>\n",
       "      <td>Dominion</td>\n",
       "      <td>2008</td>\n",
       "      <td>88</td>\n",
       "      <td>7.63</td>\n",
       "      <td>7.521</td>\n",
       "      <td>74933</td>\n",
       "      <td>/boardgame/36218/dominion</td>\n",
       "      <td>https://cf.geekdo-images.com/micro/img/VYp2s2f...</td>\n",
       "    </tr>\n",
       "  </tbody>\n",
       "</table>\n",
       "</div>"
      ],
      "text/plain": [
       "   Unnamed: 0     ID         Name  Year  Rank  Average  Bayes average  \\\n",
       "0          90  30549     Pandemic  2008    91     7.62          7.518   \n",
       "1         172    822  Carcassonne  2000   173     7.42          7.311   \n",
       "2         380     13        Catan  1995   381     7.16          7.001   \n",
       "3          49  68448    7 Wonders  2010    50     7.76          7.662   \n",
       "4          87  36218     Dominion  2008    88     7.63          7.521   \n",
       "\n",
       "   Users rated                         URL  \\\n",
       "0        96186   /boardgame/30549/pandemic   \n",
       "1        96181  /boardgame/822/carcassonne   \n",
       "2        96171         /boardgame/13/catan   \n",
       "3        79830  /boardgame/68448/7-wonders   \n",
       "4        74933   /boardgame/36218/dominion   \n",
       "\n",
       "                                           Thumbnail  \n",
       "0  https://cf.geekdo-images.com/micro/img/0m3-oqB...  \n",
       "1  https://cf.geekdo-images.com/micro/img/z0tTaij...  \n",
       "2  https://cf.geekdo-images.com/micro/img/e0y6Bog...  \n",
       "3  https://cf.geekdo-images.com/micro/img/h-Ejv31...  \n",
       "4  https://cf.geekdo-images.com/micro/img/VYp2s2f...  "
      ]
     },
     "execution_count": 3,
     "metadata": {},
     "output_type": "execute_result"
    }
   ],
   "source": [
    "df2.head()"
   ]
  },
  {
   "cell_type": "markdown",
   "metadata": {},
   "source": [
    "**Step2: Data Cleaning**"
   ]
  },
  {
   "cell_type": "code",
   "execution_count": 4,
   "metadata": {},
   "outputs": [
    {
     "name": "stdout",
     "output_type": "stream",
     "text": [
      "Rows before cleaning the data = 19330\n"
     ]
    }
   ],
   "source": [
    "print(\"Rows before cleaning the data = \" + str(len(df2)))"
   ]
  },
  {
   "cell_type": "code",
   "execution_count": 5,
   "metadata": {},
   "outputs": [
    {
     "name": "stdout",
     "output_type": "stream",
     "text": [
      "Rows after cleaning the data = 19317\n"
     ]
    }
   ],
   "source": [
    "#Dropping the rows having missing values and retaining only those games that have been rated by atleast 1 user\n",
    "df2 = df2.dropna(axis=0)\n",
    "df2 = df2[df2[\"Users rated\"] > 0]\n",
    "df2 = df2.drop(df2.columns[0], axis=1) #Dropping the first column as it is unneccessary\n",
    "print(\"Rows after cleaning the data = \" + str(len(df2)))"
   ]
  },
  {
   "cell_type": "code",
   "execution_count": 6,
   "metadata": {},
   "outputs": [
    {
     "data": {
      "text/html": [
       "<div>\n",
       "<style scoped>\n",
       "    .dataframe tbody tr th:only-of-type {\n",
       "        vertical-align: middle;\n",
       "    }\n",
       "\n",
       "    .dataframe tbody tr th {\n",
       "        vertical-align: top;\n",
       "    }\n",
       "\n",
       "    .dataframe thead th {\n",
       "        text-align: right;\n",
       "    }\n",
       "</style>\n",
       "<table border=\"1\" class=\"dataframe\">\n",
       "  <thead>\n",
       "    <tr style=\"text-align: right;\">\n",
       "      <th></th>\n",
       "      <th>ID</th>\n",
       "      <th>Name</th>\n",
       "      <th>Year</th>\n",
       "      <th>Rank</th>\n",
       "      <th>Average</th>\n",
       "      <th>Bayes average</th>\n",
       "      <th>Users rated</th>\n",
       "      <th>URL</th>\n",
       "      <th>Thumbnail</th>\n",
       "    </tr>\n",
       "  </thead>\n",
       "  <tbody>\n",
       "    <tr>\n",
       "      <th>0</th>\n",
       "      <td>30549</td>\n",
       "      <td>Pandemic</td>\n",
       "      <td>2008</td>\n",
       "      <td>91</td>\n",
       "      <td>7.62</td>\n",
       "      <td>7.518</td>\n",
       "      <td>96186</td>\n",
       "      <td>/boardgame/30549/pandemic</td>\n",
       "      <td>https://cf.geekdo-images.com/micro/img/0m3-oqB...</td>\n",
       "    </tr>\n",
       "    <tr>\n",
       "      <th>1</th>\n",
       "      <td>822</td>\n",
       "      <td>Carcassonne</td>\n",
       "      <td>2000</td>\n",
       "      <td>173</td>\n",
       "      <td>7.42</td>\n",
       "      <td>7.311</td>\n",
       "      <td>96181</td>\n",
       "      <td>/boardgame/822/carcassonne</td>\n",
       "      <td>https://cf.geekdo-images.com/micro/img/z0tTaij...</td>\n",
       "    </tr>\n",
       "    <tr>\n",
       "      <th>2</th>\n",
       "      <td>13</td>\n",
       "      <td>Catan</td>\n",
       "      <td>1995</td>\n",
       "      <td>381</td>\n",
       "      <td>7.16</td>\n",
       "      <td>7.001</td>\n",
       "      <td>96171</td>\n",
       "      <td>/boardgame/13/catan</td>\n",
       "      <td>https://cf.geekdo-images.com/micro/img/e0y6Bog...</td>\n",
       "    </tr>\n",
       "    <tr>\n",
       "      <th>3</th>\n",
       "      <td>68448</td>\n",
       "      <td>7 Wonders</td>\n",
       "      <td>2010</td>\n",
       "      <td>50</td>\n",
       "      <td>7.76</td>\n",
       "      <td>7.662</td>\n",
       "      <td>79830</td>\n",
       "      <td>/boardgame/68448/7-wonders</td>\n",
       "      <td>https://cf.geekdo-images.com/micro/img/h-Ejv31...</td>\n",
       "    </tr>\n",
       "    <tr>\n",
       "      <th>4</th>\n",
       "      <td>36218</td>\n",
       "      <td>Dominion</td>\n",
       "      <td>2008</td>\n",
       "      <td>88</td>\n",
       "      <td>7.63</td>\n",
       "      <td>7.521</td>\n",
       "      <td>74933</td>\n",
       "      <td>/boardgame/36218/dominion</td>\n",
       "      <td>https://cf.geekdo-images.com/micro/img/VYp2s2f...</td>\n",
       "    </tr>\n",
       "  </tbody>\n",
       "</table>\n",
       "</div>"
      ],
      "text/plain": [
       "      ID         Name  Year  Rank  Average  Bayes average  Users rated  \\\n",
       "0  30549     Pandemic  2008    91     7.62          7.518        96186   \n",
       "1    822  Carcassonne  2000   173     7.42          7.311        96181   \n",
       "2     13        Catan  1995   381     7.16          7.001        96171   \n",
       "3  68448    7 Wonders  2010    50     7.76          7.662        79830   \n",
       "4  36218     Dominion  2008    88     7.63          7.521        74933   \n",
       "\n",
       "                          URL  \\\n",
       "0   /boardgame/30549/pandemic   \n",
       "1  /boardgame/822/carcassonne   \n",
       "2         /boardgame/13/catan   \n",
       "3  /boardgame/68448/7-wonders   \n",
       "4   /boardgame/36218/dominion   \n",
       "\n",
       "                                           Thumbnail  \n",
       "0  https://cf.geekdo-images.com/micro/img/0m3-oqB...  \n",
       "1  https://cf.geekdo-images.com/micro/img/z0tTaij...  \n",
       "2  https://cf.geekdo-images.com/micro/img/e0y6Bog...  \n",
       "3  https://cf.geekdo-images.com/micro/img/h-Ejv31...  \n",
       "4  https://cf.geekdo-images.com/micro/img/VYp2s2f...  "
      ]
     },
     "execution_count": 6,
     "metadata": {},
     "output_type": "execute_result"
    }
   ],
   "source": [
    "df2.head()"
   ]
  },
  {
   "cell_type": "markdown",
   "metadata": {},
   "source": [
    "**Step3: Data Analysis**\n",
    "\n",
    "**CLUSTERING APPROACH**\n",
    "\n",
    "Below graph shows the distribution of average rating of the game"
   ]
  },
  {
   "cell_type": "code",
   "execution_count": 7,
   "metadata": {},
   "outputs": [
    {
     "name": "stderr",
     "output_type": "stream",
     "text": [
      "/Users/tuhenasen/opt/anaconda3/lib/python3.7/site-packages/seaborn/distributions.py:2557: FutureWarning: `distplot` is a deprecated function and will be removed in a future version. Please adapt your code to use either `displot` (a figure-level function with similar flexibility) or `histplot` (an axes-level function for histograms).\n",
      "  warnings.warn(msg, FutureWarning)\n"
     ]
    },
    {
     "data": {
      "text/plain": [
       "<AxesSubplot:xlabel='Average', ylabel='Density'>"
      ]
     },
     "execution_count": 7,
     "metadata": {},
     "output_type": "execute_result"
    },
    {
     "data": {
      "image/png": "[encoded data removed]",
      "text/plain": [
       "<Figure size 432x288 with 1 Axes>"
      ]
     },
     "metadata": {},
     "output_type": "display_data"
    }
   ],
   "source": [
    "sns.set(color_codes=\"False\")\n",
    "sns.distplot(df2[\"Average\"])"
   ]
  },
  {
   "cell_type": "code",
   "execution_count": 9,
   "metadata": {},
   "outputs": [
    {
     "name": "stdout",
     "output_type": "stream",
     "text": [
      "Rating Standard Deviation = 0.9304782337871004\n",
      "Rating Mean = 6.39241341823261\n"
     ]
    }
   ],
   "source": [
    "sd = df2[\"Average\"].std()\n",
    "mean = df2[\"Average\"].mean()\n",
    "\n",
    "print('Rating Standard Deviation = ' + str(sd) + '\\n' + 'Rating Mean = ' + str(mean))"
   ]
  },
  {
   "cell_type": "markdown",
   "metadata": {},
   "source": [
    "**On observing the histogram and on calculating the mean, we can see that the games have a rating of around 6.4 on average**\n",
    "\n",
    "\n",
    "Clustering the data using **K-Means** algorithm to find patterns\n",
    "\n",
    "\n",
    "Dropping non-numeric columns so that we can calculate the mean and standard deviation of each row"
   ]
  },
  {
   "cell_type": "code",
   "execution_count": 10,
   "metadata": {},
   "outputs": [
    {
     "data": {
      "text/html": [
       "<div>\n",
       "<style scoped>\n",
       "    .dataframe tbody tr th:only-of-type {\n",
       "        vertical-align: middle;\n",
       "    }\n",
       "\n",
       "    .dataframe tbody tr th {\n",
       "        vertical-align: top;\n",
       "    }\n",
       "\n",
       "    .dataframe thead th {\n",
       "        text-align: right;\n",
       "    }\n",
       "</style>\n",
       "<table border=\"1\" class=\"dataframe\">\n",
       "  <thead>\n",
       "    <tr style=\"text-align: right;\">\n",
       "      <th></th>\n",
       "      <th>Year</th>\n",
       "      <th>Rank</th>\n",
       "      <th>Average</th>\n",
       "      <th>Bayes average</th>\n",
       "      <th>Users rated</th>\n",
       "    </tr>\n",
       "  </thead>\n",
       "  <tbody>\n",
       "    <tr>\n",
       "      <th>0</th>\n",
       "      <td>2008</td>\n",
       "      <td>91</td>\n",
       "      <td>7.62</td>\n",
       "      <td>7.518</td>\n",
       "      <td>96186</td>\n",
       "    </tr>\n",
       "    <tr>\n",
       "      <th>1</th>\n",
       "      <td>2000</td>\n",
       "      <td>173</td>\n",
       "      <td>7.42</td>\n",
       "      <td>7.311</td>\n",
       "      <td>96181</td>\n",
       "    </tr>\n",
       "    <tr>\n",
       "      <th>2</th>\n",
       "      <td>1995</td>\n",
       "      <td>381</td>\n",
       "      <td>7.16</td>\n",
       "      <td>7.001</td>\n",
       "      <td>96171</td>\n",
       "    </tr>\n",
       "    <tr>\n",
       "      <th>3</th>\n",
       "      <td>2010</td>\n",
       "      <td>50</td>\n",
       "      <td>7.76</td>\n",
       "      <td>7.662</td>\n",
       "      <td>79830</td>\n",
       "    </tr>\n",
       "    <tr>\n",
       "      <th>4</th>\n",
       "      <td>2008</td>\n",
       "      <td>88</td>\n",
       "      <td>7.63</td>\n",
       "      <td>7.521</td>\n",
       "      <td>74933</td>\n",
       "    </tr>\n",
       "  </tbody>\n",
       "</table>\n",
       "</div>"
      ],
      "text/plain": [
       "   Year  Rank  Average  Bayes average  Users rated\n",
       "0  2008    91     7.62          7.518        96186\n",
       "1  2000   173     7.42          7.311        96181\n",
       "2  1995   381     7.16          7.001        96171\n",
       "3  2010    50     7.76          7.662        79830\n",
       "4  2008    88     7.63          7.521        74933"
      ]
     },
     "execution_count": 10,
     "metadata": {},
     "output_type": "execute_result"
    }
   ],
   "source": [
    "df_numeric = df2.drop(['Name','ID','URL', 'Thumbnail'],axis=1)\n",
    "df_numeric.head()"
   ]
  },
  {
   "cell_type": "code",
   "execution_count": 13,
   "metadata": {},
   "outputs": [
    {
     "name": "stdout",
     "output_type": "stream",
     "text": [
      "CPU times: user 3.32 s, sys: 41.9 ms, total: 3.36 s\n",
      "Wall time: 2.1 s\n"
     ]
    },
    {
     "data": {
      "text/plain": [
       "<seaborn.axisgrid.JointGrid at 0x7f7fbc18e390>"
      ]
     },
     "execution_count": 13,
     "metadata": {},
     "output_type": "execute_result"
    },
    {
     "data": {
      "image/png": "[encoded data removed]",
      "text/plain": [
       "<Figure size 432x432 with 3 Axes>"
      ]
     },
     "metadata": {},
     "output_type": "display_data"
    }
   ],
   "source": [
    "%%time\n",
    "kmodel = KMeans(n_clusters=5, random_state=1) #Number of clusters is a hyperparamter that can be tuned for optimal performance\n",
    "\n",
    "kmodel.fit(df_numeric)\n",
    "\n",
    "games_mean = df_numeric.apply(np.mean, axis=1)\n",
    "games_sd = df_numeric.apply(np.std, axis=1)\n",
    "\n",
    "labels = kmodel.labels_\n",
    "df_plot = pd.DataFrame()\n",
    "df_plot[\"mean\"] = games_mean\n",
    "df_plot[\"standard_deviation\"] = games_sd\n",
    "sns.set_style(style=\"ticks\")\n",
    "sns.jointplot(x=\"mean\", y=\"standard_deviation\", data=df_plot, color=\"r\")"
   ]
  },
  {
   "cell_type": "markdown",
   "metadata": {},
   "source": [
    "**Observation - Most of the games have similar numeric attributes in the lower mean range. As the mean increases, mostly due to an increase in the number of user ratings, the number of games decreases. \n",
    "So, we see that very few games get reviewed or rated by a lot of users, maybe because most games don't get played much.\n",
    "Also, I could not see any significant change in the cluster distribution on changing the number of clusters hyperparameter.**\n",
    "\n",
    "Analyzing the correlation of attributes to average rating of the games\n",
    "\n",
    "This will allow us to drop columns that are negatively correlated to the average rating"
   ]
  },
  {
   "cell_type": "code",
   "execution_count": 14,
   "metadata": {},
   "outputs": [
    {
     "name": "stdout",
     "output_type": "stream",
     "text": [
      "<class 'pandas.core.frame.DataFrame'>\n"
     ]
    },
    {
     "data": {
      "text/plain": [
       "Year             0.081731\n",
       "Rank            -0.740501\n",
       "Average          1.000000\n",
       "Bayes average    0.485245\n",
       "Users rated      0.172890\n",
       "Name: Average, dtype: float64"
      ]
     },
     "execution_count": 14,
     "metadata": {},
     "output_type": "execute_result"
    }
   ],
   "source": [
    "corr_df = df_numeric.corr()\n",
    "print(type(corr_df))\n",
    "\n",
    "corr_df[\"Average\"]#Shows us how each column in our dataset is correlated with the average rating column"
   ]
  },
  {
   "cell_type": "markdown",
   "metadata": {},
   "source": [
    "Observation: We see that the attributes have a very low correlation with the average rating, so an approach like regression will not work out\n",
    "\n",
    "\n",
    "**CLASSIFIER APPROACH**\n",
    "\n",
    "\n",
    "**STEP 1 : Reading the data**"
   ]
  },
  {
   "cell_type": "code",
   "execution_count": 17,
   "metadata": {},
   "outputs": [
    {
     "name": "stdout",
     "output_type": "stream",
     "text": [
      "There are 15823269 rows and 6 columns\n"
     ]
    }
   ],
   "source": [
    "\n",
    "nRowsRead = None # specify 'None' if want to read whole file\n",
    "df = pd.read_csv('bgg-15m-reviews.csv', delimiter=',', nrows = nRowsRead)\n",
    "df.dataframeName = 'bgg-15m-reviews.csv'\n",
    "nRow, nCol = df.shape\n",
    "print(f'There are {nRow} rows and {nCol} columns')"
   ]
  },
  {
   "cell_type": "code",
   "execution_count": 63,
   "metadata": {},
   "outputs": [
    {
     "data": {
      "text/html": [
       "<div>\n",
       "<style scoped>\n",
       "    .dataframe tbody tr th:only-of-type {\n",
       "        vertical-align: middle;\n",
       "    }\n",
       "\n",
       "    .dataframe tbody tr th {\n",
       "        vertical-align: top;\n",
       "    }\n",
       "\n",
       "    .dataframe thead th {\n",
       "        text-align: right;\n",
       "    }\n",
       "</style>\n",
       "<table border=\"1\" class=\"dataframe\">\n",
       "  <thead>\n",
       "    <tr style=\"text-align: right;\">\n",
       "      <th></th>\n",
       "      <th>Unnamed: 0</th>\n",
       "      <th>user</th>\n",
       "      <th>rating</th>\n",
       "      <th>comment</th>\n",
       "      <th>ID</th>\n",
       "      <th>name</th>\n",
       "    </tr>\n",
       "  </thead>\n",
       "  <tbody>\n",
       "    <tr>\n",
       "      <th>0</th>\n",
       "      <td>0</td>\n",
       "      <td>Torsten</td>\n",
       "      <td>10.0</td>\n",
       "      <td>NaN</td>\n",
       "      <td>30549</td>\n",
       "      <td>Pandemic</td>\n",
       "    </tr>\n",
       "    <tr>\n",
       "      <th>1</th>\n",
       "      <td>1</td>\n",
       "      <td>mitnachtKAUBO-I</td>\n",
       "      <td>10.0</td>\n",
       "      <td>Hands down my favorite new game of BGG CON 200...</td>\n",
       "      <td>30549</td>\n",
       "      <td>Pandemic</td>\n",
       "    </tr>\n",
       "    <tr>\n",
       "      <th>2</th>\n",
       "      <td>2</td>\n",
       "      <td>avlawn</td>\n",
       "      <td>10.0</td>\n",
       "      <td>I tend to either love or easily tire of co-op ...</td>\n",
       "      <td>30549</td>\n",
       "      <td>Pandemic</td>\n",
       "    </tr>\n",
       "    <tr>\n",
       "      <th>3</th>\n",
       "      <td>3</td>\n",
       "      <td>Mike Mayer</td>\n",
       "      <td>10.0</td>\n",
       "      <td>NaN</td>\n",
       "      <td>30549</td>\n",
       "      <td>Pandemic</td>\n",
       "    </tr>\n",
       "    <tr>\n",
       "      <th>4</th>\n",
       "      <td>4</td>\n",
       "      <td>Mease19</td>\n",
       "      <td>10.0</td>\n",
       "      <td>This is an amazing co-op game.  I play mostly ...</td>\n",
       "      <td>30549</td>\n",
       "      <td>Pandemic</td>\n",
       "    </tr>\n",
       "  </tbody>\n",
       "</table>\n",
       "</div>"
      ],
      "text/plain": [
       "   Unnamed: 0             user  rating  \\\n",
       "0           0          Torsten    10.0   \n",
       "1           1  mitnachtKAUBO-I    10.0   \n",
       "2           2           avlawn    10.0   \n",
       "3           3       Mike Mayer    10.0   \n",
       "4           4          Mease19    10.0   \n",
       "\n",
       "                                             comment     ID      name  \n",
       "0                                                NaN  30549  Pandemic  \n",
       "1  Hands down my favorite new game of BGG CON 200...  30549  Pandemic  \n",
       "2  I tend to either love or easily tire of co-op ...  30549  Pandemic  \n",
       "3                                                NaN  30549  Pandemic  \n",
       "4  This is an amazing co-op game.  I play mostly ...  30549  Pandemic  "
      ]
     },
     "execution_count": 63,
     "metadata": {},
     "output_type": "execute_result"
    }
   ],
   "source": [
    "df.head()"
   ]
  },
  {
   "cell_type": "code",
   "execution_count": 67,
   "metadata": {},
   "outputs": [
    {
     "name": "stdout",
     "output_type": "stream",
     "text": [
      "Rows before cleaning the data = 15823269\n"
     ]
    }
   ],
   "source": [
    "print(\"Rows before cleaning the data = \" + str(len(df)))"
   ]
  },
  {
   "cell_type": "code",
   "execution_count": 68,
   "metadata": {},
   "outputs": [
    {
     "data": {
      "text/plain": [
       "15823269"
      ]
     },
     "execution_count": 68,
     "metadata": {},
     "output_type": "execute_result"
    }
   ],
   "source": [
    "#Shuffle the Dataset\n",
    "df = df.sample(frac=1)\n",
    "len(df)"
   ]
  },
  {
   "cell_type": "markdown",
   "metadata": {},
   "source": [
    "**STEP2: DATA CLEANING OR HANDLING MISSING DATA**"
   ]
  },
  {
   "cell_type": "code",
   "execution_count": 26,
   "metadata": {},
   "outputs": [
    {
     "name": "stdout",
     "output_type": "stream",
     "text": [
      "CPU times: user 3 µs, sys: 0 ns, total: 3 µs\n",
      "Wall time: 33.1 µs\n"
     ]
    },
    {
     "data": {
      "text/plain": [
       "2995023"
      ]
     },
     "execution_count": 26,
     "metadata": {},
     "output_type": "execute_result"
    }
   ],
   "source": [
    "%time\n",
    "#Drop the rows where the \"comment\" column is empty\n",
    "df.dropna(subset=['comment'], inplace=True)\n",
    "len(df)"
   ]
  },
  {
   "cell_type": "markdown",
   "metadata": {},
   "source": [
    "**STEP3: DATA ANALYSIS OR EDA**\n",
    "\n",
    "**ANALYZING THE DISTRIBUTION OF RATING IN THE DATASET**\n",
    "\n"
   ]
  },
  {
   "cell_type": "code",
   "execution_count": 69,
   "metadata": {},
   "outputs": [
    {
     "data": {
      "image/png": "[encoded data removed]",
      "text/plain": [
       "<Figure size 432x288 with 1 Axes>"
      ]
     },
     "metadata": {},
     "output_type": "display_data"
    },
    {
     "name": "stdout",
     "output_type": "stream",
     "text": [
      "CPU times: user 539 ms, sys: 334 ms, total: 874 ms\n",
      "Wall time: 1.06 s\n"
     ]
    }
   ],
   "source": [
    "%%time\n",
    "plt.hist(df['rating'])\n",
    "plt.show()"
   ]
  },
  {
   "cell_type": "markdown",
   "metadata": {},
   "source": [
    "**OBSERVATION: The rating of value 7 has the highest frequency of almost 800k. The cummulative frequency of ratings 1, 2, and 3 is less than 100K.**\n",
    "\n",
    "**STEP2 CONTINUES : MORE DATA CLEANING**\n",
    "\n",
    "- removing emojis\n",
    "- removing hyperlinks\n",
    "- removing special characters"
   ]
  },
  {
   "cell_type": "code",
   "execution_count": null,
   "metadata": {},
   "outputs": [],
   "source": [
    "#!pip install emoji\n",
    "import emoji\n",
    "import re\n",
    "def clean_data(text):\n",
    "    url = re.compile(r'https?://\\S+|www\\.\\S+')\n",
    "    emoji_pattern = re.compile(\"[\"\n",
    "    u\"\\U0001F600-\\U0001F64F\"  \n",
    "    u\"\\U0001F300-\\U0001F5FF\"  \n",
    "    u\"\\U0001F680-\\U0001F6FF\"  \n",
    "    u\"\\U0001F1E0-\\U0001F1FF\"  \n",
    "    u\"\\U00002702-\\U000027B0\"\n",
    "    u\"\\U000024C2-\\U0001F251\"\n",
    "    \"]+\", flags=re.UNICODE)\n",
    "    text = re.sub(r'\\n',' ', text) \n",
    "    text = re.sub('\\s+', ' ', text).strip() \n",
    "    return emoji_pattern.sub(r'', text)\n",
    "    return url.sub(r'',text)"
   ]
  },
  {
   "cell_type": "code",
   "execution_count": null,
   "metadata": {},
   "outputs": [],
   "source": [
    "\n",
    "%%time\n",
    "df['comment'] = df['comment'].apply(clean_data)"
   ]
  },
  {
   "cell_type": "markdown",
   "metadata": {},
   "source": [
    "**STEP4: DATA PREPROCESSING**\n",
    "\n",
    "Applying TF-IDF to remove stop words "
   ]
  },
  {
   "cell_type": "code",
   "execution_count": null,
   "metadata": {},
   "outputs": [],
   "source": [
    "\n",
    "from sklearn import feature_extraction\n",
    "from sklearn.feature_extraction.text import TfidfVectorizer, CountVectorizer\n",
    "count_vectorizer = feature_extraction.text.TfidfVectorizer(stop_words='english')"
   ]
  },
  {
   "cell_type": "markdown",
   "metadata": {},
   "source": [
    "**TOP 15 WORDS BEFORE REMOVING STOP WORDS**"
   ]
  },
  {
   "cell_type": "code",
   "execution_count": 34,
   "metadata": {},
   "outputs": [
    {
     "data": {
      "image/png": "[encoded data removed]",
      "text/plain": [
       "<Figure size 432x288 with 1 Axes>"
      ]
     },
     "metadata": {},
     "output_type": "display_data"
    }
   ],
   "source": [
    "def get_top_n_words(corpus, n=None):\n",
    "    vec = CountVectorizer().fit(corpus)\n",
    "    bag_of_words = vec.transform(corpus)\n",
    "    sum_words = bag_of_words.sum(axis=0) \n",
    "    words_freq = [(word, sum_words[0, idx]) for word, idx in vec.vocabulary_.items()]\n",
    "    words_freq =sorted(words_freq, key = lambda x: x[1], reverse=True)\n",
    "    return words_freq[:n]\n",
    "\n",
    "common_words = get_top_n_words(df['comment'], 15)\n",
    "\n",
    "langs=[]\n",
    "students=[]\n",
    "for word, freq in common_words:\n",
    "    langs.append(word)\n",
    "    students.append(freq)\n",
    "import matplotlib.pyplot as plt\n",
    "fig = plt.figure()\n",
    "ax = fig.add_axes([0,0,1,1])\n",
    "ax.bar(langs,students)\n",
    "plt.show()"
   ]
  },
  {
   "cell_type": "markdown",
   "metadata": {},
   "source": [
    "**TOP 15 WORDS AFTER REMOVING STOP WORDS**"
   ]
  },
  {
   "cell_type": "code",
   "execution_count": 43,
   "metadata": {},
   "outputs": [
    {
     "data": {
      "image/png": "[encoded data removed]",
      "text/plain": [
       "<Figure size 432x288 with 1 Axes>"
      ]
     },
     "metadata": {},
     "output_type": "display_data"
    },
    {
     "name": "stdout",
     "output_type": "stream",
     "text": [
      "CPU times: user 2min 38s, sys: 5.04 s, total: 2min 43s\n",
      "Wall time: 2min 46s\n"
     ]
    }
   ],
   "source": [
    "%%time\n",
    "def get_top_n_words(corpus, n=None):\n",
    "    vec = CountVectorizer(stop_words = 'english').fit(corpus)\n",
    "    bag_of_words = vec.transform(corpus)\n",
    "    sum_words = bag_of_words.sum(axis=0) \n",
    "    words_freq = [(word, sum_words[0, idx]) for word, idx in vec.vocabulary_.items()]\n",
    "    words_freq =sorted(words_freq, key = lambda x: x[1], reverse=True)\n",
    "    return words_freq[:n]\n",
    "common_words = get_top_n_words(df['comment'], 15)\n",
    "langs=[]\n",
    "students=[]\n",
    "for word, freq in common_words:\n",
    "    langs.append(word)\n",
    "    students.append(freq)\n",
    "fig = plt.figure()\n",
    "ax = fig.add_axes([0,0,1,1])\n",
    "ax.bar(langs,students)\n",
    "plt.show()\n"
   ]
  },
  {
   "cell_type": "code",
   "execution_count": 44,
   "metadata": {},
   "outputs": [],
   "source": [
    "\n",
    "#Store the reviews in X and the ratings i.e. the class labels in y\n",
    "X = df['comment'].values\n",
    "y = df['rating'].values"
   ]
  },
  {
   "cell_type": "code",
   "execution_count": 45,
   "metadata": {},
   "outputs": [
    {
     "data": {
      "text/plain": [
       "4384"
      ]
     },
     "execution_count": 45,
     "metadata": {},
     "output_type": "execute_result"
    }
   ],
   "source": [
    "len(df['rating'].unique()) "
   ]
  },
  {
   "cell_type": "markdown",
   "metadata": {},
   "source": [
    "**THE DATASET HAS 4384 UNIQUE VALUES**\n"
   ]
  },
  {
   "cell_type": "code",
   "execution_count": 46,
   "metadata": {},
   "outputs": [
    {
     "data": {
      "text/plain": [
       "4384"
      ]
     },
     "execution_count": 46,
     "metadata": {},
     "output_type": "execute_result"
    }
   ],
   "source": [
    "\n",
    "#Rounding off the decimal ratings\n",
    "y = np.round(y)\n",
    "len(df['rating'].unique())"
   ]
  },
  {
   "cell_type": "markdown",
   "metadata": {},
   "source": [
    "**STEP5: DATA PREPERATION - SPLITTING THE DATA INTO TRAIN(80 PERCENT) AND TEST SET(20 PERCENT)**"
   ]
  },
  {
   "cell_type": "code",
   "execution_count": 47,
   "metadata": {},
   "outputs": [],
   "source": [
    "from sklearn.model_selection import train_test_split"
   ]
  },
  {
   "cell_type": "code",
   "execution_count": 48,
   "metadata": {},
   "outputs": [
    {
     "name": "stdout",
     "output_type": "stream",
     "text": [
      "CPU times: user 1.2 s, sys: 1.16 s, total: 2.36 s\n",
      "Wall time: 2.45 s\n"
     ]
    }
   ],
   "source": [
    "\n",
    "%%time\n",
    "X_train, X_test, y_train,y_test = train_test_split(X,y,test_size=0.2,random_state=123)"
   ]
  },
  {
   "cell_type": "code",
   "execution_count": 49,
   "metadata": {},
   "outputs": [
    {
     "name": "stdout",
     "output_type": "stream",
     "text": [
      "CPU times: user 1min 3s, sys: 1.72 s, total: 1min 5s\n",
      "Wall time: 1min 5s\n"
     ]
    }
   ],
   "source": [
    "%%time\n",
    "train_vectors = count_vectorizer.fit_transform(X_train)"
   ]
  },
  {
   "cell_type": "code",
   "execution_count": 50,
   "metadata": {},
   "outputs": [
    {
     "name": "stdout",
     "output_type": "stream",
     "text": [
      "CPU times: user 16.8 s, sys: 264 ms, total: 17.1 s\n",
      "Wall time: 17.2 s\n"
     ]
    }
   ],
   "source": [
    "%%time\n",
    "test_vectors = count_vectorizer.transform(X_test)"
   ]
  },
  {
   "cell_type": "markdown",
   "metadata": {},
   "source": [
    "**STEP 6: RUNNING MACHINE LEARNING MODELS:**\n",
    "\n",
    "**RIDGE CLASSIFIER**\n",
    "\n",
    "**MULTINOMIAL NAIVE BAYES**\n",
    "\n",
    "**LINEAR SVC**\n",
    "\n",
    "**VOTING ENSEMBLE MODEL**"
   ]
  },
  {
   "cell_type": "code",
   "execution_count": 51,
   "metadata": {},
   "outputs": [],
   "source": [
    "#Load the required libraries\n",
    "import sklearn\n",
    "from sklearn.linear_model import RidgeClassifier\n",
    "from sklearn.naive_bayes import MultinomialNB\n",
    "from sklearn.svm import LinearSVC"
   ]
  },
  {
   "cell_type": "code",
   "execution_count": 52,
   "metadata": {},
   "outputs": [],
   "source": [
    "\n",
    "from sklearn import metrics\n",
    "from sklearn.metrics import accuracy_score\n",
    "from sklearn.metrics import mean_squared_error\n",
    "from sklearn.metrics import roc_curve"
   ]
  },
  {
   "cell_type": "code",
   "execution_count": 53,
   "metadata": {},
   "outputs": [],
   "source": [
    "def range_accuracy_metric(actual, predicted):\n",
    "    correct = 0\n",
    "    for i in range(len(actual)):\n",
    "        if actual[i] == predicted[i] or actual[i] == (predicted[i]+1) or actual[i] == (predicted[i]-1) :\n",
    "            correct += 1\n",
    "    return correct / float(len(actual)) * 100.0"
   ]
  },
  {
   "cell_type": "markdown",
   "metadata": {},
   "source": [
    "**RIDGE CLASSIFIER**"
   ]
  },
  {
   "cell_type": "code",
   "execution_count": 54,
   "metadata": {},
   "outputs": [
    {
     "name": "stdout",
     "output_type": "stream",
     "text": [
      "CPU times: user 33min 47s, sys: 13.9 s, total: 34min 1s\n",
      "Wall time: 8min 36s\n"
     ]
    },
    {
     "data": {
      "text/plain": [
       "RidgeClassifier(alpha=1.0, class_weight=None, copy_X=True, fit_intercept=True,\n",
       "                max_iter=None, normalize=False, random_state=None,\n",
       "                solver='auto', tol=0.001)"
      ]
     },
     "execution_count": 54,
     "metadata": {},
     "output_type": "execute_result"
    }
   ],
   "source": [
    "%%time\n",
    "clf = RidgeClassifier()\n",
    "clf.fit(train_vectors, y_train)"
   ]
  },
  {
   "cell_type": "code",
   "execution_count": 55,
   "metadata": {},
   "outputs": [
    {
     "name": "stdout",
     "output_type": "stream",
     "text": [
      "CPU times: user 326 ms, sys: 155 ms, total: 481 ms\n",
      "Wall time: 489 ms\n"
     ]
    }
   ],
   "source": [
    "%%time\n",
    "y_pred = np.round(clf.predict(test_vectors))"
   ]
  },
  {
   "cell_type": "code",
   "execution_count": 56,
   "metadata": {},
   "outputs": [
    {
     "name": "stdout",
     "output_type": "stream",
     "text": [
      "Accuracy on Ridge Classifier : 0.32043138204188615 %\n",
      "CPU times: user 65.5 ms, sys: 19 ms, total: 84.5 ms\n",
      "Wall time: 86.1 ms\n"
     ]
    }
   ],
   "source": [
    "%%time\n",
    "acc = accuracy_score(np.round(y_pred), np.round(y_test))\n",
    "print('Accuracy on Ridge Classifier : {} %'.format(acc))"
   ]
  },
  {
   "cell_type": "code",
   "execution_count": 57,
   "metadata": {},
   "outputs": [
    {
     "name": "stdout",
     "output_type": "stream",
     "text": [
      "Range Accuracy on Ridge Classifier : 69.59240740895318 %\n",
      "CPU times: user 614 ms, sys: 7.34 ms, total: 621 ms\n",
      "Wall time: 633 ms\n"
     ]
    }
   ],
   "source": [
    "\n",
    "%%time\n",
    "range_ridge_score=range_accuracy_metric(y_test, np.round(y_pred))\n",
    "print('Range Accuracy on Ridge Classifier : {} %'.format(range_ridge_score))"
   ]
  },
  {
   "cell_type": "code",
   "execution_count": 58,
   "metadata": {},
   "outputs": [
    {
     "data": {
      "text/plain": [
       "1.647444233826571"
      ]
     },
     "execution_count": 58,
     "metadata": {},
     "output_type": "execute_result"
    }
   ],
   "source": [
    "\n",
    "mse1 = mean_squared_error(y_test, y_pred, squared=False)\n",
    "mse1"
   ]
  },
  {
   "cell_type": "code",
   "execution_count": 59,
   "metadata": {},
   "outputs": [
    {
     "name": "stderr",
     "output_type": "stream",
     "text": [
      "/Users/tuhenasen/opt/anaconda3/lib/python3.7/site-packages/sklearn/metrics/_classification.py:1272: UndefinedMetricWarning: Precision and F-score are ill-defined and being set to 0.0 in labels with no predicted samples. Use `zero_division` parameter to control this behavior.\n",
      "  _warn_prf(average, modifier, msg_start, len(result))\n"
     ]
    },
    {
     "name": "stdout",
     "output_type": "stream",
     "text": [
      "              precision    recall  f1-score   support\n",
      "\n",
      "         0.0       0.00      0.00      0.00         1\n",
      "         1.0       0.38      0.11      0.17      4604\n",
      "         2.0       0.27      0.05      0.08      9043\n",
      "         3.0       0.21      0.02      0.04     15932\n",
      "         4.0       0.22      0.06      0.09     30013\n",
      "         5.0       0.23      0.05      0.08     48661\n",
      "         6.0       0.31      0.40      0.35    117964\n",
      "         7.0       0.30      0.26      0.28    129714\n",
      "         8.0       0.34      0.64      0.45    150118\n",
      "         9.0       0.24      0.04      0.07     56008\n",
      "        10.0       0.36      0.18      0.24     36947\n",
      "\n",
      "    accuracy                           0.32    599005\n",
      "   macro avg       0.26      0.16      0.17    599005\n",
      "weighted avg       0.30      0.32      0.28    599005\n",
      "\n",
      "CPU times: user 1.5 s, sys: 58 ms, total: 1.56 s\n",
      "Wall time: 1.59 s\n"
     ]
    }
   ],
   "source": [
    "%%time\n",
    "print(metrics.classification_report(np.round(y_test), np.round(y_pred)))"
   ]
  },
  {
   "cell_type": "markdown",
   "metadata": {},
   "source": [
    "**Multinomial Naive Bayes Classifier**\n"
   ]
  },
  {
   "cell_type": "code",
   "execution_count": 70,
   "metadata": {},
   "outputs": [
    {
     "name": "stdout",
     "output_type": "stream",
     "text": [
      "CPU times: user 2.2 s, sys: 1.28 s, total: 3.48 s\n",
      "Wall time: 4.88 s\n"
     ]
    },
    {
     "data": {
      "text/plain": [
       "MultinomialNB(alpha=1.0, class_prior=None, fit_prior=True)"
      ]
     },
     "execution_count": 70,
     "metadata": {},
     "output_type": "execute_result"
    }
   ],
   "source": [
    "\n",
    "%%time\n",
    "clf2 = MultinomialNB()\n",
    "clf2.fit(train_vectors, y_train)"
   ]
  },
  {
   "cell_type": "markdown",
   "metadata": {},
   "source": [
    "Predicting the values of the test set"
   ]
  },
  {
   "cell_type": "code",
   "execution_count": 72,
   "metadata": {},
   "outputs": [
    {
     "name": "stdout",
     "output_type": "stream",
     "text": [
      "CPU times: user 380 ms, sys: 288 ms, total: 667 ms\n",
      "Wall time: 994 ms\n"
     ]
    }
   ],
   "source": [
    "%%time\n",
    "y_pred_nb = np.round(clf2.predict(test_vectors))"
   ]
  },
  {
   "cell_type": "code",
   "execution_count": 73,
   "metadata": {},
   "outputs": [
    {
     "name": "stdout",
     "output_type": "stream",
     "text": [
      " Accuracy on Multinomial Naive Bayes : 0.30516606706120986 %\n"
     ]
    }
   ],
   "source": [
    "\n",
    "acc2 = accuracy_score(y_pred_nb, np.round(y_test))\n",
    "print(' Accuracy on Multinomial Naive Bayes : {} %'.format(acc2))"
   ]
  },
  {
   "cell_type": "code",
   "execution_count": 74,
   "metadata": {},
   "outputs": [
    {
     "name": "stdout",
     "output_type": "stream",
     "text": [
      "Range Accuracy on Multinomial Naive Bayes : 66.40395322242719 %\n"
     ]
    }
   ],
   "source": [
    "range_MNB_score=range_accuracy_metric(y_test, np.round(y_pred_nb))\n",
    "print('Range Accuracy on Multinomial Naive Bayes : {} %'.format(range_MNB_score))"
   ]
  },
  {
   "cell_type": "code",
   "execution_count": 75,
   "metadata": {},
   "outputs": [
    {
     "data": {
      "text/plain": [
       "1.7331848863681967"
      ]
     },
     "execution_count": 75,
     "metadata": {},
     "output_type": "execute_result"
    }
   ],
   "source": [
    "mse2 = mean_squared_error(y_test, np.round(y_pred_nb), squared=False)\n",
    "mse2"
   ]
  },
  {
   "cell_type": "code",
   "execution_count": 76,
   "metadata": {},
   "outputs": [
    {
     "name": "stderr",
     "output_type": "stream",
     "text": [
      "/Users/tuhenasen/opt/anaconda3/lib/python3.7/site-packages/sklearn/metrics/_classification.py:1272: UndefinedMetricWarning: Precision and F-score are ill-defined and being set to 0.0 in labels with no predicted samples. Use `zero_division` parameter to control this behavior.\n",
      "  _warn_prf(average, modifier, msg_start, len(result))\n"
     ]
    },
    {
     "name": "stdout",
     "output_type": "stream",
     "text": [
      "              precision    recall  f1-score   support\n",
      "\n",
      "         0.0       0.00      0.00      0.00         1\n",
      "         1.0       0.50      0.00      0.00      4604\n",
      "         2.0       0.05      0.00      0.00      9043\n",
      "         3.0       0.26      0.00      0.00     15932\n",
      "         4.0       0.37      0.00      0.01     30013\n",
      "         5.0       0.23      0.00      0.01     48661\n",
      "         6.0       0.29      0.32      0.31    117964\n",
      "         7.0       0.30      0.15      0.20    129714\n",
      "         8.0       0.31      0.83      0.45    150118\n",
      "         9.0       0.20      0.00      0.01     56008\n",
      "        10.0       0.39      0.01      0.02     36947\n",
      "\n",
      "    accuracy                           0.31    599005\n",
      "   macro avg       0.26      0.12      0.09    599005\n",
      "weighted avg       0.29      0.31      0.22    599005\n",
      "\n"
     ]
    }
   ],
   "source": [
    "print(metrics.classification_report(np.round(y_test), np.round(y_pred_nb)))"
   ]
  },
  {
   "cell_type": "markdown",
   "metadata": {},
   "source": [
    "**LINEAR SVC**\n",
    "\n",
    "FIT LINEAR SVC MODEL ON TRAIN DATASET"
   ]
  },
  {
   "cell_type": "code",
   "execution_count": 77,
   "metadata": {},
   "outputs": [
    {
     "name": "stdout",
     "output_type": "stream",
     "text": [
      "CPU times: user 10min 50s, sys: 3.45 s, total: 10min 54s\n",
      "Wall time: 10min 58s\n"
     ]
    },
    {
     "data": {
      "text/plain": [
       "LinearSVC(C=1.0, class_weight=None, dual=True, fit_intercept=True,\n",
       "          intercept_scaling=1, loss='squared_hinge', max_iter=1000,\n",
       "          multi_class='ovr', penalty='l2', random_state=None, tol=0.0001,\n",
       "          verbose=0)"
      ]
     },
     "execution_count": 77,
     "metadata": {},
     "output_type": "execute_result"
    }
   ],
   "source": [
    "%%time\n",
    "clf3 = LinearSVC()\n",
    "clf3.fit(train_vectors, y_train)"
   ]
  },
  {
   "cell_type": "markdown",
   "metadata": {},
   "source": [
    "PREDICT THE VALUES ON TEST DATASET"
   ]
  },
  {
   "cell_type": "code",
   "execution_count": 79,
   "metadata": {},
   "outputs": [
    {
     "name": "stdout",
     "output_type": "stream",
     "text": [
      "CPU times: user 255 ms, sys: 12.8 ms, total: 267 ms\n",
      "Wall time: 269 ms\n"
     ]
    }
   ],
   "source": [
    "%%time\n",
    "y_pred_svc = np.round(clf3.predict(test_vectors))"
   ]
  },
  {
   "cell_type": "code",
   "execution_count": 80,
   "metadata": {},
   "outputs": [
    {
     "name": "stdout",
     "output_type": "stream",
     "text": [
      "Accuracy on Linear SVC : 0.320847071393394 %\n"
     ]
    }
   ],
   "source": [
    "acc3 = accuracy_score(y_pred_svc, np.round(y_test))\n",
    "print('Accuracy on Linear SVC : {} %'.format(acc3))"
   ]
  },
  {
   "cell_type": "code",
   "execution_count": 81,
   "metadata": {},
   "outputs": [
    {
     "name": "stdout",
     "output_type": "stream",
     "text": [
      "Range Accuracy on Linear SVC : 69.63364245707466 %\n"
     ]
    }
   ],
   "source": [
    "range_svc_score=range_accuracy_metric(y_test, np.round(y_pred_svc))\n",
    "print('Range Accuracy on Linear SVC : {} %'.format(range_svc_score))"
   ]
  },
  {
   "cell_type": "code",
   "execution_count": 82,
   "metadata": {},
   "outputs": [
    {
     "data": {
      "text/plain": [
       "1.6473013454911858"
      ]
     },
     "execution_count": 82,
     "metadata": {},
     "output_type": "execute_result"
    }
   ],
   "source": [
    "mse3 = mean_squared_error(y_test, np.round(y_pred_svc), squared=False)\n",
    "mse3"
   ]
  },
  {
   "cell_type": "code",
   "execution_count": 83,
   "metadata": {},
   "outputs": [
    {
     "name": "stderr",
     "output_type": "stream",
     "text": [
      "/Users/tuhenasen/opt/anaconda3/lib/python3.7/site-packages/sklearn/metrics/_classification.py:1272: UndefinedMetricWarning: Precision and F-score are ill-defined and being set to 0.0 in labels with no predicted samples. Use `zero_division` parameter to control this behavior.\n",
      "  _warn_prf(average, modifier, msg_start, len(result))\n"
     ]
    },
    {
     "name": "stdout",
     "output_type": "stream",
     "text": [
      "              precision    recall  f1-score   support\n",
      "\n",
      "         0.0       0.00      0.00      0.00         1\n",
      "         1.0       0.32      0.19      0.24      4604\n",
      "         2.0       0.25      0.07      0.11      9043\n",
      "         3.0       0.20      0.04      0.06     15932\n",
      "         4.0       0.22      0.07      0.10     30013\n",
      "         5.0       0.22      0.06      0.09     48661\n",
      "         6.0       0.31      0.40      0.35    117964\n",
      "         7.0       0.30      0.26      0.28    129714\n",
      "         8.0       0.35      0.62      0.45    150118\n",
      "         9.0       0.23      0.05      0.08     56008\n",
      "        10.0       0.36      0.22      0.28     36947\n",
      "\n",
      "    accuracy                           0.32    599005\n",
      "   macro avg       0.25      0.18      0.18    599005\n",
      "weighted avg       0.30      0.32      0.28    599005\n",
      "\n"
     ]
    }
   ],
   "source": [
    "print(metrics.classification_report(np.round(y_test), np.round(y_pred_svc)))"
   ]
  },
  {
   "cell_type": "markdown",
   "metadata": {},
   "source": [
    "**VOTING ENSEMBLE CLASSIFIER**\n",
    "\n",
    "FIT THE ENSEMBLE MODEL ON TRAIN DATASET"
   ]
  },
  {
   "cell_type": "code",
   "execution_count": 84,
   "metadata": {},
   "outputs": [
    {
     "name": "stdout",
     "output_type": "stream",
     "text": [
      "CPU times: user 36min 42s, sys: 23.8 s, total: 37min 6s\n",
      "Wall time: 9min 40s\n"
     ]
    },
    {
     "data": {
      "text/plain": [
       "VotingClassifier(estimators=[('ridge',\n",
       "                              RidgeClassifier(alpha=1.0, class_weight=None,\n",
       "                                              copy_X=True, fit_intercept=True,\n",
       "                                              max_iter=None, normalize=False,\n",
       "                                              random_state=None, solver='auto',\n",
       "                                              tol=0.001)),\n",
       "                             ('MNB',\n",
       "                              MultinomialNB(alpha=1.0, class_prior=None,\n",
       "                                            fit_prior=True))],\n",
       "                 flatten_transform=True, n_jobs=None, voting='hard',\n",
       "                 weights=None)"
      ]
     },
     "execution_count": 84,
     "metadata": {},
     "output_type": "execute_result"
    }
   ],
   "source": [
    "%%time\n",
    "from sklearn.ensemble import VotingClassifier\n",
    "estimators = []\n",
    "estimators.append(('ridge', clf))\n",
    "estimators.append(('MNB', clf2))\n",
    "# create the ensemble model\n",
    "ensemble = VotingClassifier(estimators)\n",
    "ensemble.fit(train_vectors, y_train)"
   ]
  },
  {
   "cell_type": "code",
   "execution_count": 85,
   "metadata": {},
   "outputs": [],
   "source": [
    "y_pred_ensemble = np.round(ensemble.predict(test_vectors))"
   ]
  },
  {
   "cell_type": "code",
   "execution_count": 86,
   "metadata": {},
   "outputs": [
    {
     "name": "stdout",
     "output_type": "stream",
     "text": [
      " Accuracy on Ensemble model : 0.3169405931503076 %\n"
     ]
    }
   ],
   "source": [
    "acc4 = accuracy_score(y_pred_ensemble, np.round(y_test))\n",
    "print(' Accuracy on Ensemble model : {} %'.format(acc4))"
   ]
  },
  {
   "cell_type": "code",
   "execution_count": 87,
   "metadata": {},
   "outputs": [
    {
     "name": "stdout",
     "output_type": "stream",
     "text": [
      "Range Accuracy on Ensemble model : 69.41811837964624 %\n"
     ]
    }
   ],
   "source": [
    "range_ensemble_score=range_accuracy_metric(y_test, np.round(y_pred_ensemble))\n",
    "print('Range Accuracy on Ensemble model : {} %'.format(range_ensemble_score))"
   ]
  },
  {
   "cell_type": "code",
   "execution_count": 88,
   "metadata": {},
   "outputs": [
    {
     "data": {
      "text/plain": [
       "1.6121098513448864"
      ]
     },
     "execution_count": 88,
     "metadata": {},
     "output_type": "execute_result"
    }
   ],
   "source": [
    "mse4 = mean_squared_error(y_test, y_pred_ensemble, squared=False)\n",
    "mse4"
   ]
  },
  {
   "cell_type": "code",
   "execution_count": 89,
   "metadata": {},
   "outputs": [
    {
     "name": "stderr",
     "output_type": "stream",
     "text": [
      "/Users/tuhenasen/opt/anaconda3/lib/python3.7/site-packages/sklearn/metrics/_classification.py:1272: UndefinedMetricWarning: Precision and F-score are ill-defined and being set to 0.0 in labels with no predicted samples. Use `zero_division` parameter to control this behavior.\n",
      "  _warn_prf(average, modifier, msg_start, len(result))\n"
     ]
    },
    {
     "name": "stdout",
     "output_type": "stream",
     "text": [
      "              precision    recall  f1-score   support\n",
      "\n",
      "         0.0       0.00      0.00      0.00         1\n",
      "         1.0       0.37      0.11      0.17      4604\n",
      "         2.0       0.27      0.05      0.08      9043\n",
      "         3.0       0.20      0.02      0.04     15932\n",
      "         4.0       0.22      0.06      0.09     30013\n",
      "         5.0       0.23      0.05      0.08     48661\n",
      "         6.0       0.30      0.42      0.35    117964\n",
      "         7.0       0.30      0.26      0.28    129714\n",
      "         8.0       0.34      0.67      0.45    150118\n",
      "         9.0       0.27      0.00      0.00     56008\n",
      "        10.0       0.56      0.01      0.01     36947\n",
      "\n",
      "    accuracy                           0.32    599005\n",
      "   macro avg       0.28      0.15      0.14    599005\n",
      "weighted avg       0.31      0.32      0.26    599005\n",
      "\n"
     ]
    }
   ],
   "source": [
    "print(metrics.classification_report(np.round(y_test), np.round(y_pred_ensemble)))"
   ]
  },
  {
   "cell_type": "markdown",
   "metadata": {},
   "source": [
    "**STEP 7: COMPARING THE MODELS TO FIND OUT THE BEST FIT**\n",
    "\n",
    "**ACCURACY AND RANGE ACCURACY**"
   ]
  },
  {
   "cell_type": "code",
   "execution_count": 90,
   "metadata": {},
   "outputs": [
    {
     "data": {
      "image/png": "[encoded data removed]",
      "text/plain": [
       "<Figure size 432x288 with 1 Axes>"
      ]
     },
     "metadata": {},
     "output_type": "display_data"
    }
   ],
   "source": [
    "labels = ['Ridge', 'MultinomialNB', 'LinearSVC', 'Ensemble']\n",
    "accuracy = np.round([acc*100, acc2*100, acc3*100, acc4*100])\n",
    "range_accuracy = np.round([range_ridge_score, range_MNB_score, range_svc_score, range_ensemble_score])\n",
    "\n",
    "x = np.arange(len(labels))  # the label locations\n",
    "width = 0.3  # the width of the bars\n",
    "\n",
    "fig, ax = plt.subplots()\n",
    "rects1 = ax.bar(x - width/2, accuracy, width, label='Accuracy')\n",
    "rects2 = ax.bar(x + width/2, range_accuracy, width, label='Range Accuracy')\n",
    "\n",
    "# Add some text for labels, title and custom x-axis tick labels, etc.\n",
    "ax.set_ylabel('Accuracy')\n",
    "ax.set_title('Accuracy vs Range Accuracy')\n",
    "ax.set_xticks(x)\n",
    "ax.set_xticklabels(labels)\n",
    "ax.legend()\n",
    "\n",
    "\n",
    "def autolabel(rects):\n",
    "    for rect in rects:\n",
    "        height = rect.get_height()\n",
    "        ax.annotate('{}'.format(height),\n",
    "                    xy=(rect.get_x() + rect.get_width() / 2, height),\n",
    "                    xytext=(0, 3),  # 3 points vertical offset\n",
    "                    textcoords=\"offset points\",\n",
    "                    ha='center', va='bottom')\n",
    "autolabel(rects1)\n",
    "autolabel(rects2)\n",
    "fig.tight_layout()\n",
    "plt.show()"
   ]
  },
  {
   "cell_type": "markdown",
   "metadata": {},
   "source": [
    "**I will choose the Ridge Classifier model as the best out of these ones as linear classifiers such as ridge or linear SVC work quite well on text classification problems. This is because text classification problems contain many features and high dimensional problems are likely to be linearly separable. Ensemble has low MSE (means low error) but accuracy score is low which is better for ridge.**\n",
    "\n",
    "**Hence, I will choose Ridge classifier over all other models as it also avoids overfitting by regularizing the weights to keep them small, and model selection is straight forward as we only have to choose the value of a single regression parameter.**\n"
   ]
  },
  {
   "cell_type": "code",
   "execution_count": null,
   "metadata": {},
   "outputs": [],
   "source": []
  }
 ],
 "metadata": {
  "kernelspec": {
   "display_name": "Python 3",
   "language": "python",
   "name": "python3"
  },
  "language_info": {
   "codemirror_mode": {
    "name": "ipython",
    "version": 3
   },
   "file_extension": ".py",
   "mimetype": "text/x-python",
   "name": "python",
   "nbconvert_exporter": "python",
   "pygments_lexer": "ipython3",
   "version": "3.7.6"
  }
 },
 "nbformat": 4,
 "nbformat_minor": 4
}
